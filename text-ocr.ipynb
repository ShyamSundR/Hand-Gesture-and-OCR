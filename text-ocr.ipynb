{
 "cells": [
  {
   "cell_type": "code",
   "execution_count": 1,
   "metadata": {
    "_cell_guid": "79c7e3d0-c299-4dcb-8224-4455121ee9b0",
    "_uuid": "d629ff2d2480ee46fbb7e2d37f6b5fab8052498a",
    "executionInfo": {
     "elapsed": 2455,
     "status": "ok",
     "timestamp": 1669317359307,
     "user": {
      "displayName": "ramram ram",
      "userId": "10196562973377570642"
     },
     "user_tz": -330
    },
    "id": "Kb2nhDceX-rG"
   },
   "outputs": [],
   "source": [
    "import numpy as np\n",
    "import pandas as pd\n",
    "from keras.preprocessing.image import ImageDataGenerator\n",
    "import os\n",
    "import random \n",
    "import cv2\n",
    "import imutils\n",
    "import random\n",
    "import matplotlib.pyplot as plt\n",
    "import seaborn as sns\n",
    "from sklearn.preprocessing import LabelBinarizer\n",
    "from keras.utils import np_utils\n",
    "from keras.models import Sequential\n",
    "from keras import optimizers\n",
    "from sklearn.preprocessing import LabelBinarizer\n",
    "from keras import backend as K\n",
    "from keras.layers import Dense, Activation, Flatten, Dense,MaxPooling2D, Dropout\n",
    "from keras.layers import Conv2D, MaxPooling2D, BatchNormalization\n",
    "from keras.preprocessing import image"
   ]
  },
  {
   "cell_type": "code",
   "execution_count": 2,
   "metadata": {
    "executionInfo": {
     "elapsed": 7,
     "status": "ok",
     "timestamp": 1669317359308,
     "user": {
      "displayName": "ramram ram",
      "userId": "10196562973377570642"
     },
     "user_tz": -330
    },
    "id": "R0PEFZ7FX-rH"
   },
   "outputs": [],
   "source": [
    "train_datagen = image.ImageDataGenerator(\n",
    "    rescale = 1./255\n",
    " )\n",
    "\n",
    "test_dataset = image.ImageDataGenerator(rescale=1./255)"
   ]
  },
  {
   "cell_type": "code",
   "execution_count": 3,
   "metadata": {
    "colab": {
     "base_uri": "https://localhost:8080/"
    },
    "executionInfo": {
     "elapsed": 39289,
     "status": "ok",
     "timestamp": 1669317398591,
     "user": {
      "displayName": "ramram ram",
      "userId": "10196562973377570642"
     },
     "user_tz": -330
    },
    "id": "czec2C18X-rI",
    "outputId": "f876e164-85b2-43fb-b830-a11b6e2ccc87"
   },
   "outputs": [
    {
     "name": "stdout",
     "output_type": "stream",
     "text": [
      "Found 751228 images belonging to 35 classes.\n"
     ]
    }
   ],
   "source": [
    "train_generator = train_datagen.flow_from_directory(\n",
    "    './Train/',\n",
    "    target_size = (32,32),\n",
    "    batch_size = 32,color_mode='grayscale',\n",
    "     class_mode = 'categorical')"
   ]
  },
  {
   "cell_type": "code",
   "execution_count": 4,
   "metadata": {
    "colab": {
     "base_uri": "https://localhost:8080/"
    },
    "executionInfo": {
     "elapsed": 7,
     "status": "ok",
     "timestamp": 1669317398591,
     "user": {
      "displayName": "ramram ram",
      "userId": "10196562973377570642"
     },
     "user_tz": -330
    },
    "id": "ftom1PASX-rI",
    "outputId": "a9f18dee-8ba6-4e75-e32e-bfc5518ec2e9"
   },
   "outputs": [
    {
     "name": "stdout",
     "output_type": "stream",
     "text": [
      "Found 18104 images belonging to 35 classes.\n"
     ]
    }
   ],
   "source": [
    "validation_generator = train_datagen.flow_from_directory(\n",
    "    './Validation/',\n",
    "    target_size = (32,32),\n",
    "    batch_size = 32,color_mode='grayscale',\n",
    "    class_mode = 'categorical')"
   ]
  },
  {
   "cell_type": "code",
   "execution_count": 5,
   "metadata": {
    "executionInfo": {
     "elapsed": 858,
     "status": "ok",
     "timestamp": 1669317399445,
     "user": {
      "displayName": "ramram ram",
      "userId": "10196562973377570642"
     },
     "user_tz": -330
    },
    "id": "thcTOIBOX-rN"
   },
   "outputs": [],
   "source": [
    "model = Sequential()\n",
    "\n",
    "model.add(Conv2D(32, (3, 3), padding = \"same\", activation='relu', input_shape=(32,32,1)))\n",
    "model.add(MaxPooling2D(pool_size=(2,2)))\n",
    "model.add(Conv2D(64, (3, 3), activation='relu'))\n",
    "model.add(MaxPooling2D(pool_size=(2,2)))\n",
    "model.add(Conv2D(128, (3, 3), activation='relu'))\n",
    "model.add(MaxPooling2D(pool_size=(2,2)))\n",
    "model.add(Dropout(0.25))\n",
    " \n",
    "model.add(Flatten())\n",
    "model.add(Dense(128, activation='relu'))\n",
    "model.add(Dropout(0.2))\n",
    "model.add(Dense(35, activation='softmax'))"
   ]
  },
  {
   "cell_type": "code",
   "execution_count": 6,
   "metadata": {
    "colab": {
     "base_uri": "https://localhost:8080/"
    },
    "executionInfo": {
     "elapsed": 23,
     "status": "ok",
     "timestamp": 1669317400275,
     "user": {
      "displayName": "ramram ram",
      "userId": "10196562973377570642"
     },
     "user_tz": -330
    },
    "id": "SIPEAMtYX-rO",
    "outputId": "44049d12-0f47-4237-97ec-55cc06fda3a0"
   },
   "outputs": [
    {
     "name": "stdout",
     "output_type": "stream",
     "text": [
      "Model: \"sequential\"\n",
      "_________________________________________________________________\n",
      " Layer (type)                Output Shape              Param #   \n",
      "=================================================================\n",
      " conv2d (Conv2D)             (None, 32, 32, 32)        320       \n",
      "                                                                 \n",
      " max_pooling2d (MaxPooling2D  (None, 16, 16, 32)       0         \n",
      " )                                                               \n",
      "                                                                 \n",
      " conv2d_1 (Conv2D)           (None, 14, 14, 64)        18496     \n",
      "                                                                 \n",
      " max_pooling2d_1 (MaxPooling  (None, 7, 7, 64)         0         \n",
      " 2D)                                                             \n",
      "                                                                 \n",
      " conv2d_2 (Conv2D)           (None, 5, 5, 128)         73856     \n",
      "                                                                 \n",
      " max_pooling2d_2 (MaxPooling  (None, 2, 2, 128)        0         \n",
      " 2D)                                                             \n",
      "                                                                 \n",
      " dropout (Dropout)           (None, 2, 2, 128)         0         \n",
      "                                                                 \n",
      " flatten (Flatten)           (None, 512)               0         \n",
      "                                                                 \n",
      " dense (Dense)               (None, 128)               65664     \n",
      "                                                                 \n",
      " dropout_1 (Dropout)         (None, 128)               0         \n",
      "                                                                 \n",
      " dense_1 (Dense)             (None, 35)                4515      \n",
      "                                                                 \n",
      "=================================================================\n",
      "Total params: 162,851\n",
      "Trainable params: 162,851\n",
      "Non-trainable params: 0\n",
      "_________________________________________________________________\n"
     ]
    }
   ],
   "source": [
    "model.summary()"
   ]
  },
  {
   "cell_type": "code",
   "execution_count": 7,
   "metadata": {
    "executionInfo": {
     "elapsed": 12,
     "status": "ok",
     "timestamp": 1669317400275,
     "user": {
      "displayName": "ramram ram",
      "userId": "10196562973377570642"
     },
     "user_tz": -330
    },
    "id": "VRn3BSSJX-rO"
   },
   "outputs": [],
   "source": [
    "model.compile(loss='categorical_crossentropy', optimizer=\"adam\",metrics=['accuracy'])"
   ]
  },
  {
   "cell_type": "code",
   "execution_count": 10,
   "metadata": {
    "colab": {
     "base_uri": "https://localhost:8080/"
    },
    "executionInfo": {
     "elapsed": 1626375,
     "status": "ok",
     "timestamp": 1669320525776,
     "user": {
      "displayName": "ramram ram",
      "userId": "10196562973377570642"
     },
     "user_tz": -330
    },
    "id": "xQLPRg2OX-rO",
    "outputId": "cbb980fe-fe47-45a7-f826-810d8140add2"
   },
   "outputs": [
    {
     "name": "stdout",
     "output_type": "stream",
     "text": [
      "Epoch 1/5\n",
      "23476/23476 [==============================] - 334s 14ms/step - loss: 0.1967 - accuracy: 0.9345 - val_loss: 0.1987 - val_accuracy: 0.9393\n",
      "Epoch 2/5\n",
      "23476/23476 [==============================] - 325s 14ms/step - loss: 0.1935 - accuracy: 0.9354 - val_loss: 0.2065 - val_accuracy: 0.9369\n",
      "Epoch 3/5\n",
      "23476/23476 [==============================] - 320s 14ms/step - loss: 0.1920 - accuracy: 0.9361 - val_loss: 0.2045 - val_accuracy: 0.9365\n",
      "Epoch 4/5\n",
      "23476/23476 [==============================] - 326s 14ms/step - loss: 0.1903 - accuracy: 0.9365 - val_loss: 0.2222 - val_accuracy: 0.9363\n",
      "Epoch 5/5\n",
      "23476/23476 [==============================] - 321s 14ms/step - loss: 0.1893 - accuracy: 0.9368 - val_loss: 0.1949 - val_accuracy: 0.9416\n"
     ]
    }
   ],
   "source": [
    "history = model.fit(train_generator, epochs=5, validation_data = validation_generator,  verbose=1)"
   ]
  },
  {
   "cell_type": "code",
   "execution_count": 11,
   "metadata": {
    "executionInfo": {
     "elapsed": 577,
     "status": "ok",
     "timestamp": 1669320532036,
     "user": {
      "displayName": "ramram ram",
      "userId": "10196562973377570642"
     },
     "user_tz": -330
    },
    "id": "sYRRcbHrkHwC"
   },
   "outputs": [],
   "source": [
    "model.save('text_rec.h5')"
   ]
  },
  {
   "cell_type": "code",
   "execution_count": 12,
   "metadata": {
    "colab": {
     "base_uri": "https://localhost:8080/",
     "height": 295
    },
    "executionInfo": {
     "elapsed": 697,
     "status": "ok",
     "timestamp": 1669320535923,
     "user": {
      "displayName": "ramram ram",
      "userId": "10196562973377570642"
     },
     "user_tz": -330
    },
    "id": "I-2zNmGhX-rP",
    "outputId": "6abaf255-abeb-4f48-fd88-ce77e828211e"
   },
   "outputs": [
    {
     "data": {
      "image/png": "[encoded data removed]",
      "text/plain": [
       "<Figure size 432x288 with 1 Axes>"
      ]
     },
     "metadata": {
      "needs_background": "light"
     },
     "output_type": "display_data"
    }
   ],
   "source": [
    "plt.plot(history.history['accuracy'])\n",
    "plt.plot(history.history['val_accuracy'])\n",
    "plt.title('Training Accuracy vs Validation Accuracy')\n",
    "plt.ylabel('Accuracy')\n",
    "plt.xlabel('Epoch')\n",
    "plt.legend(['Train', 'Validation'], loc='upper left')\n",
    "plt.show()"
   ]
  },
  {
   "cell_type": "code",
   "execution_count": 13,
   "metadata": {
    "colab": {
     "base_uri": "https://localhost:8080/",
     "height": 295
    },
    "executionInfo": {
     "elapsed": 710,
     "status": "ok",
     "timestamp": 1669320548376,
     "user": {
      "displayName": "ramram ram",
      "userId": "10196562973377570642"
     },
     "user_tz": -330
    },
    "id": "L7O92H0AX-rP",
    "outputId": "91fa4a3c-f709-4fca-d258-594da63e2a1c"
   },
   "outputs": [
    {
     "data": {
      "image/png": "[encoded data removed]",
      "text/plain": [
       "<Figure size 432x288 with 1 Axes>"
      ]
     },
     "metadata": {
      "needs_background": "light"
     },
     "output_type": "display_data"
    }
   ],
   "source": [
    "plt.plot(history.history['loss'])\n",
    "plt.plot(history.history['val_loss'])\n",
    "plt.title('Training Loss vs Validation Loss')\n",
    "plt.ylabel('Loss')\n",
    "plt.xlabel('Epoch')\n",
    "plt.legend(['Train', 'Validation'], loc='upper left')\n",
    "plt.show()"
   ]
  }
 ],
 "metadata": {
  "accelerator": "GPU",
  "colab": {
   "collapsed_sections": [
    "iPvOcPdEX-rS",
    "uLXofeHcX-rT",
    "BErWJGgcX-rT"
   ],
   "provenance": []
  },
  "gpuClass": "standard",
  "kernelspec": {
   "display_name": "Python 3 (ipykernel)",
   "language": "python",
   "name": "python3"
  },
  "language_info": {
   "codemirror_mode": {
    "name": "ipython",
    "version": 3
   },
   "file_extension": ".py",
   "mimetype": "text/x-python",
   "name": "python",
   "nbconvert_exporter": "python",
   "pygments_lexer": "ipython3",
   "version": "3.9.8"
  },
  "vscode": {
   "interpreter": {
    "hash": "11938c6bc6919ae2720b4d5011047913343b08a43b18698fd82dedb0d4417594"
   }
  }
 },
 "nbformat": 4,
 "nbformat_minor": 1
}
